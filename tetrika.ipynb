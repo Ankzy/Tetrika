{
 "cells": [
  {
   "cell_type": "markdown",
   "metadata": {},
   "source": [
    "## Task 1:\n",
    "\n",
    "Дан массив чисел, состоящий из некоторого количества подряд идущих единиц, за которыми следует какое-то количество подряд идущих нулей: 111111111111111111111111100000000. \n",
    "Найти индекс первого нуля (то есть найти такое место, где заканчиваются единицы, и начинаются нули)\n",
    "\n",
    "Какова сложность вашего алгоритма?"
   ]
  },
  {
   "cell_type": "code",
   "execution_count": 335,
   "metadata": {},
   "outputs": [
    {
     "name": "stdout",
     "output_type": "stream",
     "text": [
      "25\n"
     ]
    }
   ],
   "source": [
    "def task(array):\n",
    "    l = -1\n",
    "    r = len(array)\n",
    "    while l < r - 1 :\n",
    "        m = (l + r) // 2\n",
    "        if int(array[m]) > 0:\n",
    "            l = m\n",
    "        else: \n",
    "            r = m\n",
    "    return r\n",
    "            \n",
    "\n",
    "print(task(\"111111111111111111111111100000000\")) "
   ]
  },
  {
   "cell_type": "markdown",
   "metadata": {},
   "source": [
    "*Реализован левосторонний двоичный поиск. Вычислительная сложность алгоритма - **O(log n)**.*"
   ]
  },
  {
   "cell_type": "markdown",
   "metadata": {},
   "source": []
  },
  {
   "cell_type": "markdown",
   "metadata": {},
   "source": [
    "## Task 2:\n",
    "\n",
    "В нашей школе мы не можем разглашать персональные данные пользователей, но чтобы преподаватель и ученик смогли объяснить нашей поддержке, кого они имеют в виду (у преподавателей, например, часто учится несколько Саш), мы генерируем пользователям уникальные и легко произносимые имена. Имя у нас состоит из прилагательного, имени животного и двузначной цифры. В итоге получается, например, \"Перламутровый лосось 77\". Для генерации таких имен мы и решали следующую задачу:\n",
    "Получить с русской википедии список всех животных ([Категория:Животные по алфавиту](https://ru.wikipedia.org/wiki/%D0%9A%D0%B0%D1%82%D0%B5%D0%B3%D0%BE%D1%80%D0%B8%D1%8F:%D0%96%D0%B8%D0%B2%D0%BE%D1%82%D0%BD%D1%8B%D0%B5_%D0%BF%D0%BE_%D0%B0%D0%BB%D1%84%D0%B0%D0%B2%D0%B8%D1%82%D1%83)) и вывести количество животных на каждую букву алфавита. Результат должен получиться в следующем виде:\n",
    "А: 642\n",
    
    "Б: 412\n",
    
    "В:....\n"
   ]
  },
  {
   "cell_type": "code",
   "execution_count": 441,
   "metadata": {},
   "outputs": [
    {
     "name": "stdout",
     "output_type": "stream",
     "text": [
      "А :  1090\n",
      "Б :  1395\n",
      "В :  483\n",
      "Г :  819\n",
      "Д :  529\n",
      "Е :  26\n",
      "Ё :  2\n",
      "Ж :  210\n",
      "З :  394\n",
      "И :  321\n",
      "Й :  0\n",
      "К :  2002\n",
      "Л :  468\n",
      "М :  1053\n",
      "Н :  286\n",
      "О :  617\n",
      "П :  1461\n",
      "Р :  389\n",
      "С :  1652\n",
      "Т :  765\n",
      "У :  196\n",
      "Ф :  168\n",
      "Х :  221\n",
      "Ц :  27\n",
      "Ч :  455\n",
      "Ш :  114\n",
      "Щ :  55\n",
      "Ъ :  0\n",
      "Ы :  0\n",
      "Ь :  0\n",
      "Э :  50\n",
      "Ю :  0\n",
      "Я :  170\n"
     ]
    }
   ],
   "source": [
    "import requests\n",
    "from bs4 import BeautifulSoup\n",
    "\n",
    "rus = ['А', 'Б', 'В', 'Г', 'Д', 'Е', 'Ё', 'Ж', 'З', 'И', 'Й', 'К', 'Л', 'М', 'Н', 'О', 'П', 'Р', 'С', 'Т', 'У', 'Ф', 'Х', 'Ц', 'Ч', 'Ш', 'Щ', 'Ъ', 'Ы', 'Ь', 'Э', 'Ю', 'Я']\n",
    "animals = []\n",
    "letters = dict()\n",
    "resp = requests.get('https://ru.wikipedia.org/wiki/%D0%9A%D0%B0%D1%82%D0%B5%D0%B3%D0%BE%D1%80%D0%B8%D1%8F:%D0%96%D0%B8%D0%B2%D0%BE%D1%82%D0%BD%D1%8B%D0%B5_%D0%BF%D0%BE_%D0%B0%D0%BB%D1%84%D0%B0%D0%B2%D0%B8%D1%82%D1%83')\n",
    "html = resp.text\n",
    "soup = BeautifulSoup(html, 'lxml')\n",
    "animal_links = soup.find('div', 'mw-category-group')('a')\n",
    "for animal in animal_links:\n",
    "    animals.append(animal.string)\n",
    "    if animal.string[0] in letters:\n",
    "        letters[animal.string[0]] += 1\n",
    "    else:\n",
    "        letters[animal.string[0]] = 1\n",
    "last_letter = animal_links[-1].string[0]\n",
    "\n",
    "while soup.find('a', string='Следующая страница') and last_letter in rus:\n",
    "    link = soup.find('a', string='Следующая страница')\n",
    "    bs_href = link['href']\n",
    "    resp = requests.get('https://ru.wikipedia.org' + bs_href)\n",
    "    html = resp.text\n",
    "    soup = BeautifulSoup(html, 'lxml')\n",
    "    animal_links = soup.find('div', 'mw-category-group')('a')\n",
    "    for animal in animal_links:\n",
    "        animals.append(animal.string)\n",
    "        if animal.string[0] in letters:\n",
    "            letters[animal.string[0]] += 1\n",
    "        else:\n",
    "            letters[animal.string[0]] = 1\n",
    "    last_letter = animal_links[-1].string[0]\n",
    "\n",
    "for letter in rus:\n",
    "    if letter in letters:\n",
    "        print(letter, ': ', letters[letter])\n",
    "    else:\n",
    "        print(letter, ': ', '0')\n"
   ]
  },
  {
   "cell_type": "markdown",
   "metadata": {},
   "source": []
  },
  {
   "cell_type": "markdown",
   "metadata": {},
   "source": [
    "## Task 3:\n",
    "\n",
    "Мы сохраняем время присутствия каждого пользователя на уроке  виде интервалов. В функцию передается словарь, содержащий три списка с таймстемпами (время в секундах):\n",
    "— **lesson** – начало и конец урока \n",
    "— **pupil** – интервалы присутствия ученика \n",
    "— **tutor** – интервалы присутствия учителя \n",
    "Интервалы устроены следующим образом – это всегда список из четного количества элементов. Под четными индексами (начиная с 0) время входа на урок, под нечетными - время выхода с урока.\n",
    "Нужно написать функцию, которая получает на вход словарь с интервалами и возвращает время общего присутствия ученика и учителя на уроке (в секундах). \n",
    "Будет плюсом: Написать WEB API с единственным endpoint’ом для вызова этой функции.\n"
   ]
  },
  {
   "cell_type": "code",
   "execution_count": 440,
   "metadata": {},
   "outputs": [
    {
     "name": "stdout",
     "output_type": "stream",
     "text": [
      "3117\n"
     ]
    }
   ],
   "source": [
    "def appearance(intervals):\n",
    "    pupil_time = set()\n",
    "    tutor_time = set()\n",
    "    \n",
    "    for i in range(0, len(intervals['pupil']), 2):\n",
    "        if intervals['pupil'][i] >= intervals['lesson'][0]:\n",
    "            if intervals['pupil'][i+1] <= intervals['lesson'][1]:\n",
    "                for minute in range(intervals['pupil'][i], intervals['pupil'][i+1]):\n",
    "                    pupil_time.add(minute)\n",
    "            else:\n",
    "                for minute in range(intervals['pupil'][i], intervals['lesson'][1]):\n",
    "                    pupil_time.add(minute)\n",
    "        else:\n",
    "            if intervals['pupil'][i+1] >= intervals['lesson'][0] and intervals['pupil'][i+1] <= intervals['lesson'][1]:\n",
    "                for minute in range(intervals['lesson'][0], intervals['pupil'][i+1]):\n",
    "                    pupil_time.add(minute)\n",
    "            elif intervals['pupil'][i+1] > intervals['lesson'][1]:\n",
    "                for minute in range(intervals['lesson'][0], intervals['lesson'][1]):\n",
    "                    pupil_time.add(minute)\n",
    "    \n",
    "    for i in range(0, len(intervals['tutor']), 2):\n",
    "        if intervals['tutor'][i] >= intervals['lesson'][0]:\n",
    "            if intervals['tutor'][i+1] <= intervals['lesson'][1]:\n",
    "                for minute in range(intervals['tutor'][i], intervals['tutor'][i+1]):\n",
    "                    tutor_time.add(minute)\n",
    "            else:\n",
    "                for minute in range(intervals['tutor'][i], intervals['lesson'][1]):\n",
    "                    tutor_time.add(minute)\n",
    "        else:\n",
    "            if intervals['tutor'][i+1] >= intervals['lesson'][0] and intervals['tutor'][i+1] <= intervals['lesson'][1]:\n",
    "                for minute in range(intervals['lesson'][0], intervals['tutor'][i+1]):\n",
    "                    tutor_time.add(minute)\n",
    "            elif intervals['tutor'][i+1] > intervals['lesson'][1]:\n",
    "                for minute in range(intervals['lesson'][0], intervals['lesson'][1]):\n",
    "                    tutor_time.add(minute)\n",
    "    \n",
    "    total_time = len(pupil_time.intersection(tutor_time))\n",
    "    return total_time\n",
    "    \n",
    "\n",
    "tests = [\n",
    "   {'data': {'lesson': [1594663200, 1594666800],\n",
    "             'pupil': [1594663340, 1594663389, 1594663390, 1594663395, 1594663396, 1594666472],\n",
    "             'tutor': [1594663290, 1594663430, 1594663443, 1594666473]},\n",
    "    'answer': 3117\n",
    "    },\n",
    "   {'data': {'lesson': [1594702800, 1594706400],\n",
    "             'pupil': [1594702789, 1594704500, 1594702807, 1594704542, 1594704512, 1594704513, 1594704564, 1594705150, 1594704581, 1594704582, 1594704734, 1594705009, 1594705095, 1594705096, 1594705106, 1594706480, 1594705158, 1594705773, 1594705849, 1594706480, 1594706500, 1594706875, 1594706502, 1594706503, 1594706524, 1594706524, 1594706579, 1594706641],\n",
    "             'tutor': [1594700035, 1594700364, 1594702749, 1594705148, 1594705149, 1594706463]},\n",
    "    'answer': 3577\n",
    "    },\n",
    "   {'data': {'lesson': [1594692000, 1594695600],\n",
    "             'pupil': [1594692033, 1594696347],\n",
    "             'tutor': [1594692017, 1594692066, 1594692068, 1594696341]},\n",
    "    'answer': 3565\n",
    "    },\n",
    "]\n",
    "\n",
    "\n",
    "\n",
    "print(appearance({'lesson': [1594663200, 1594666800],\n",
    "             'pupil': [1594663340, 1594663389, 1594663390, 1594663395, 1594663396, 1594666472],\n",
    "             'tutor': [1594663290, 1594663430, 1594663443, 1594666473]}))\n",
    "\n",
    "if __name__ == '__main__':\n",
    "    for i, test in enumerate(tests):\n",
    "        test_answer = appearance(test['data'])\n",
    "        assert test_answer == test['answer'], f'Error on test case {i}, got {test_answer}, expected {test[\"answer\"]}'"
   ]
  },
  {
   "cell_type": "markdown",
   "metadata": {},
   "source": []
  }
 ],
 "metadata": {
  "kernelspec": {
   "display_name": "Python 3",
   "language": "python",
   "name": "python3"
  },
  "language_info": {
   "codemirror_mode": {
    "name": "ipython",
    "version": 3
   },
   "file_extension": ".py",
   "mimetype": "text/x-python",
   "name": "python",
   "nbconvert_exporter": "python",
   "pygments_lexer": "ipython3",
   "version": "3.7.6"
  }
 },
 "nbformat": 4,
 "nbformat_minor": 4
}
